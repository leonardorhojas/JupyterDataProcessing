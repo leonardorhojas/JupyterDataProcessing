{
 "cells": [
  {
   "cell_type": "code",
   "execution_count": 192,
   "metadata": {},
   "outputs": [],
   "source": [
    "import os, re, io\n",
    "import numpy as np\n",
    "import pandas as pd\n"
   ]
  },
  {
   "cell_type": "code",
   "execution_count": 193,
   "metadata": {},
   "outputs": [],
   "source": [
    "\n",
    "# from database_setup import engine\n",
    "from sqlalchemy.orm import sessionmaker\n",
    "from models import BranchProduct, Product\n",
    "from database_setup import engine\n"
   ]
  },
  {
   "cell_type": "code",
   "execution_count": 194,
   "metadata": {},
   "outputs": [],
   "source": [
    "PROJECT_DIR = '/home/rafaelleonardo/Python_projects/jupiter_scrapy'\n",
    "ASSETS_DIR = os.path.join(PROJECT_DIR, \"assets\")\n",
    "PRODUCTS_PATH = os.path.join(ASSETS_DIR, \"PRODUCTS.csv\")\n",
    "PRICES_STOCK_PATH = os.path.join(ASSETS_DIR, \"PRICES-STOCK.csv\")"
   ]
  },
  {
   "cell_type": "code",
   "execution_count": 195,
   "metadata": {},
   "outputs": [],
   "source": [
    "products_df = pd.read_csv(filepath_or_buffer=PRODUCTS_PATH, sep=\"|\",)\n",
    "prices_stock_df = pd.read_csv(filepath_or_buffer=PRICES_STOCK_PATH, sep=\"|\",)"
   ]
  },
  {
   "cell_type": "code",
   "execution_count": 201,
   "metadata": {},
   "outputs": [],
   "source": [
    "prices_stock_df = prices_stock_df[(prices_stock_df.BRANCH == 'MM') | (prices_stock_df.BRANCH == 'RHSM')]\n",
    "products_df['DESCRIPTION'] = products_df['DESCRIPTION'].str.replace('<[^<]+?>', '')\n",
    "products_df['CATEGORY'] = products_df['CATEGORY'].str.lower() + '|' + products_df['SUB_CATEGORY'].str.lower() "
   ]
  },
  {
   "cell_type": "code",
   "execution_count": 202,
   "metadata": {},
   "outputs": [],
   "source": [
    "prices_stock_df = prices_stock_df[(prices_stock_df['STOCK'] > 0)]"
   ]
  },
  {
   "cell_type": "code",
   "execution_count": 203,
   "metadata": {},
   "outputs": [
    {
     "data": {
      "text/plain": [
       "(460002, 4)"
      ]
     },
     "execution_count": 203,
     "metadata": {},
     "output_type": "execute_result"
    }
   ],
   "source": [
    "prices_stock_df.shape"
   ]
  },
  {
   "cell_type": "code",
   "execution_count": 200,
   "metadata": {},
   "outputs": [],
   "source": [
    "products_df = products_df[products_df.SKU.isin(prices_stock_df.SKU.unique())]"
   ]
  },
  {
   "cell_type": "code",
   "execution_count": 175,
   "metadata": {},
   "outputs": [
    {
     "data": {
      "text/plain": [
       "(306768, 14)"
      ]
     },
     "execution_count": 175,
     "metadata": {},
     "output_type": "execute_result"
    }
   ],
   "source": [
    "products_df.shape"
   ]
  },
  {
   "cell_type": "code",
   "execution_count": 176,
   "metadata": {},
   "outputs": [],
   "source": [
    "del products_df['BUY_UNIT']\n",
    "del products_df['DESCRIPTION_STATUS']\n",
    "del products_df['ORGANIC_ITEM']\n",
    "del products_df['KIRLAND_ITEM']\n",
    "del products_df['FINELINE_NUMBER']\n",
    "del products_df['SUB_SUB_CATEGORY']\n",
    "del products_df['SUB_CATEGORY']"
   ]
  },
  {
   "cell_type": "code",
   "execution_count": 191,
   "metadata": {},
   "outputs": [],
   "source": []
  },
  {
   "cell_type": "code",
   "execution_count": 159,
   "metadata": {},
   "outputs": [],
   "source": [
    "products_df.rename(columns={\n",
    "    'SKU': 'sku',\n",
    "    'BARCODES': 'barcodes',\n",
    "    'NAME': 'name',\n",
    "    'DESCRIPTION': 'description',\n",
    "    'IMAGE_URL': 'image_url',\n",
    "    'CATEGORY': 'category',\n",
    "    'BRAND': 'brand',\n",
    "}, inplace=True)\n",
    "\n",
    "prices_stock_df.rename(columns={\n",
    "    'SKU': 'sku',\n",
    "    'BRANCH': 'branch',\n",
    "    'PRICE': 'price',\n",
    "    'STOCK': 'stock',\n",
    "}, inplace=True)"
   ]
  },
  {
   "cell_type": "code",
   "execution_count": 162,
   "metadata": {},
   "outputs": [
    {
     "data": {
      "text/html": [
       "<div>\n",
       "<style scoped>\n",
       "    .dataframe tbody tr th:only-of-type {\n",
       "        vertical-align: middle;\n",
       "    }\n",
       "\n",
       "    .dataframe tbody tr th {\n",
       "        vertical-align: top;\n",
       "    }\n",
       "\n",
       "    .dataframe thead th {\n",
       "        text-align: right;\n",
       "    }\n",
       "</style>\n",
       "<table border=\"1\" class=\"dataframe\">\n",
       "  <thead>\n",
       "    <tr style=\"text-align: right;\">\n",
       "      <th></th>\n",
       "      <th>sku</th>\n",
       "      <th>branch</th>\n",
       "      <th>price</th>\n",
       "      <th>stock</th>\n",
       "    </tr>\n",
       "  </thead>\n",
       "  <tbody>\n",
       "    <tr>\n",
       "      <th>1</th>\n",
       "      <td>223240</td>\n",
       "      <td>RHSM</td>\n",
       "      <td>15.3</td>\n",
       "      <td>5</td>\n",
       "    </tr>\n",
       "    <tr>\n",
       "      <th>2</th>\n",
       "      <td>49514</td>\n",
       "      <td>RHSM</td>\n",
       "      <td>56.7</td>\n",
       "      <td>-2</td>\n",
       "    </tr>\n",
       "    <tr>\n",
       "      <th>3</th>\n",
       "      <td>111807</td>\n",
       "      <td>RHSM</td>\n",
       "      <td>48.0</td>\n",
       "      <td>-4</td>\n",
       "    </tr>\n",
       "    <tr>\n",
       "      <th>13</th>\n",
       "      <td>22797</td>\n",
       "      <td>RHSM</td>\n",
       "      <td>32.4</td>\n",
       "      <td>-2</td>\n",
       "    </tr>\n",
       "    <tr>\n",
       "      <th>15</th>\n",
       "      <td>85778</td>\n",
       "      <td>RHSM</td>\n",
       "      <td>64.2</td>\n",
       "      <td>5</td>\n",
       "    </tr>\n",
       "  </tbody>\n",
       "</table>\n",
       "</div>"
      ],
      "text/plain": [
       "       sku branch  price  stock\n",
       "1   223240   RHSM   15.3      5\n",
       "2    49514   RHSM   56.7     -2\n",
       "3   111807   RHSM   48.0     -4\n",
       "13   22797   RHSM   32.4     -2\n",
       "15   85778   RHSM   64.2      5"
      ]
     },
     "execution_count": 162,
     "metadata": {},
     "output_type": "execute_result"
    }
   ],
   "source": [
    "prices_stock_df.head()"
   ]
  },
  {
   "cell_type": "code",
   "execution_count": 51,
   "metadata": {},
   "outputs": [],
   "source": [
    "def get_package(row):\n",
    "    temp_list = row['DESCRIPTION'].split()\n",
    "    if len(temp_list) == 1:\n",
    "        return np.nan\n",
    "    word1 = temp_list[-1]\n",
    "    word2 = temp_list[-2]\n",
    "    try: \n",
    "        int(word1)\n",
    "        return np.nan\n",
    "    except:\n",
    "        if bool(re.search(r'\\d', word1)):\n",
    "            return word1\n",
    "        else:\n",
    "            try:\n",
    "                int(word2)\n",
    "                return word2 + ' ' + word1\n",
    "            except:\n",
    "                return np.nan"
   ]
  },
  {
   "cell_type": "code",
   "execution_count": 52,
   "metadata": {},
   "outputs": [],
   "source": [
    "def extract_description(row):\n",
    "    temp_list = row['DESCRIPTION'].split()\n",
    "    if len(temp_list) == 1:\n",
    "        return row['DESCRIPTION']\n",
    "    word1 = temp_list[-1]\n",
    "    word2 = temp_list[-2]\n",
    "    try: \n",
    "        int(word1)\n",
    "        return row['DESCRIPTION']\n",
    "    except:\n",
    "        if bool(re.search(r'\\d', word1)):\n",
    "            return row['DESCRIPTION'].replace(' ' + word1, '')\n",
    "        else:\n",
    "            try:\n",
    "                int(word2)\n",
    "                return row['DESCRIPTION'].replace(' ' + word2 + ' ' + word1, '')\n",
    "            except:\n",
    "                return row['DESCRIPTION']   "
   ]
  },
  {
   "cell_type": "code",
   "execution_count": 19,
   "metadata": {},
   "outputs": [],
   "source": [
    "def get_package(row):\n",
    "    temp_list = row['DESCRIPTION'].split()\n",
    "    if len(temp_list) == 1:\n",
    "        return np.nan\n",
    "    word1 = temp_list[-1]\n",
    "    word2 = temp_list[-2]\n",
    "    try: \n",
    "        int(word1)\n",
    "        return np.nan\n",
    "    except:\n",
    "        if bool(re.search(r'\\d', word1)):\n",
    "            return word1\n",
    "        else:\n",
    "            try:\n",
    "                int(word2)\n",
    "                return word2 + ' ' + word1\n",
    "            except:\n",
    "                return np.nan\n",
    "            "
   ]
  },
  {
   "cell_type": "code",
   "execution_count": 141,
   "metadata": {},
   "outputs": [],
   "source": [
    "products_df['store'] = 'Richart Wholesale Wlub'"
   ]
  },
  {
   "cell_type": "code",
   "execution_count": 145,
   "metadata": {},
   "outputs": [
    {
     "data": {
      "text/html": [
       "<div>\n",
       "<style scoped>\n",
       "    .dataframe tbody tr th:only-of-type {\n",
       "        vertical-align: middle;\n",
       "    }\n",
       "\n",
       "    .dataframe tbody tr th {\n",
       "        vertical-align: top;\n",
       "    }\n",
       "\n",
       "    .dataframe thead th {\n",
       "        text-align: right;\n",
       "    }\n",
       "</style>\n",
       "<table border=\"1\" class=\"dataframe\">\n",
       "  <thead>\n",
       "    <tr style=\"text-align: right;\">\n",
       "      <th></th>\n",
       "      <th>SKU</th>\n",
       "      <th>BUY_UNIT</th>\n",
       "      <th>DESCRIPTION_STATUS</th>\n",
       "      <th>ORGANIC_ITEM</th>\n",
       "      <th>KIRLAND_ITEM</th>\n",
       "      <th>FINELINE_NUMBER</th>\n",
       "      <th>BARCODES</th>\n",
       "      <th>NAME</th>\n",
       "      <th>DESCRIPTION</th>\n",
       "      <th>IMAGE_URL</th>\n",
       "      <th>CATEGORY</th>\n",
       "      <th>SUB_CATEGORY</th>\n",
       "      <th>SUB_SUB_CATEGORY</th>\n",
       "      <th>BRAND</th>\n",
       "      <th>store</th>\n",
       "    </tr>\n",
       "  </thead>\n",
       "  <tbody>\n",
       "    <tr>\n",
       "      <th>0</th>\n",
       "      <td>52572</td>\n",
       "      <td>UN</td>\n",
       "      <td>B</td>\n",
       "      <td>NaN</td>\n",
       "      <td>False</td>\n",
       "      <td>713115</td>\n",
       "      <td>693177767936</td>\n",
       "      <td>CANASTOS</td>\n",
       "      <td>CANASTO CONEJO F1 A 1UN</td>\n",
       "      <td>https://locahost:8000/images/693177767936?heig...</td>\n",
       "      <td>apparel|mens wear</td>\n",
       "      <td>MENS WEAR</td>\n",
       "      <td>MEN - T-SHIRTS</td>\n",
       "      <td>PUPPY DOG PALS</td>\n",
       "      <td>Richart Wholesale Wlub</td>\n",
       "    </tr>\n",
       "    <tr>\n",
       "      <th>1</th>\n",
       "      <td>278100</td>\n",
       "      <td>NaN</td>\n",
       "      <td>R</td>\n",
       "      <td>NaN</td>\n",
       "      <td>True</td>\n",
       "      <td>345827</td>\n",
       "      <td>399</td>\n",
       "      <td>LIMÓN COLIMA KG</td>\n",
       "      <td>LIMÓN COLIMA KG</td>\n",
       "      <td>https://locahost:8000/images/399?height=500&amp;wi...</td>\n",
       "      <td>entertainment|toys &amp; hobbies</td>\n",
       "      <td>TOYS &amp; HOBBIES</td>\n",
       "      <td>PELUCHES</td>\n",
       "      <td>ENTRECOT</td>\n",
       "      <td>Richart Wholesale Wlub</td>\n",
       "    </tr>\n",
       "    <tr>\n",
       "      <th>2</th>\n",
       "      <td>27404</td>\n",
       "      <td>KG</td>\n",
       "      <td>B</td>\n",
       "      <td>NaN</td>\n",
       "      <td>True</td>\n",
       "      <td>134923</td>\n",
       "      <td>762230099043</td>\n",
       "      <td>CHICLES</td>\n",
       "      <td>TRIDENT 6S SANDIA 9GR</td>\n",
       "      <td>https://locahost:8000/images/762230099043?heig...</td>\n",
       "      <td>hardlines|automotive</td>\n",
       "      <td>AUTOMOTIVE</td>\n",
       "      <td>APARIENCIA AUTOMOVIL</td>\n",
       "      <td>SPURA</td>\n",
       "      <td>Richart Wholesale Wlub</td>\n",
       "    </tr>\n",
       "    <tr>\n",
       "      <th>3</th>\n",
       "      <td>215143</td>\n",
       "      <td>UN</td>\n",
       "      <td>CD</td>\n",
       "      <td>Y</td>\n",
       "      <td>True</td>\n",
       "      <td>773663</td>\n",
       "      <td>7501199416236</td>\n",
       "      <td>JABON LIQUIDO PARA MANOS VITAMINA E</td>\n",
       "      <td>JABON LIQUIDO PARA MANOS VITAMINA E 442 ML.</td>\n",
       "      <td>https://locahost:8000/images/7501199416236?hei...</td>\n",
       "      <td>hardlines|seasonal</td>\n",
       "      <td>SEASONAL</td>\n",
       "      <td>SEASONAL - EASTER</td>\n",
       "      <td>CHAMYTO</td>\n",
       "      <td>Richart Wholesale Wlub</td>\n",
       "    </tr>\n",
       "    <tr>\n",
       "      <th>4</th>\n",
       "      <td>85805</td>\n",
       "      <td>KG</td>\n",
       "      <td>CD</td>\n",
       "      <td>N</td>\n",
       "      <td>False</td>\n",
       "      <td>233313</td>\n",
       "      <td>8410113003119</td>\n",
       "      <td>VINO TINTO GRAN CORONAS TORRES 750</td>\n",
       "      <td>VINO TINTO GRAN CORONAS TORRES 750 1 PZA</td>\n",
       "      <td>https://locahost:8000/images/8410113003119?hei...</td>\n",
       "      <td>consumables|household chemicals</td>\n",
       "      <td>HOUSEHOLD CHEMICALS</td>\n",
       "      <td>AIR FRESHENER-DEODORIZER</td>\n",
       "      <td>POOPSIE</td>\n",
       "      <td>Richart Wholesale Wlub</td>\n",
       "    </tr>\n",
       "    <tr>\n",
       "      <th>...</th>\n",
       "      <td>...</td>\n",
       "      <td>...</td>\n",
       "      <td>...</td>\n",
       "      <td>...</td>\n",
       "      <td>...</td>\n",
       "      <td>...</td>\n",
       "      <td>...</td>\n",
       "      <td>...</td>\n",
       "      <td>...</td>\n",
       "      <td>...</td>\n",
       "      <td>...</td>\n",
       "      <td>...</td>\n",
       "      <td>...</td>\n",
       "      <td>...</td>\n",
       "      <td>...</td>\n",
       "    </tr>\n",
       "    <tr>\n",
       "      <th>321537</th>\n",
       "      <td>37542</td>\n",
       "      <td>UN</td>\n",
       "      <td>NaN</td>\n",
       "      <td>N</td>\n",
       "      <td>False</td>\n",
       "      <td>966232</td>\n",
       "      <td>698400300544</td>\n",
       "      <td>LOZA BASICA GRA</td>\n",
       "      <td>TAZA CONSOME 280CC 1UN</td>\n",
       "      <td>https://locahost:8000/images/698400300544?heig...</td>\n",
       "      <td>hardlines|hardware</td>\n",
       "      <td>HARDWARE</td>\n",
       "      <td>VENTILACION</td>\n",
       "      <td>HO DON CUSTODIO</td>\n",
       "      <td>Richart Wholesale Wlub</td>\n",
       "    </tr>\n",
       "    <tr>\n",
       "      <th>321538</th>\n",
       "      <td>199851</td>\n",
       "      <td>NaN</td>\n",
       "      <td>R</td>\n",
       "      <td>Y</td>\n",
       "      <td>True</td>\n",
       "      <td>855034</td>\n",
       "      <td>7501199404301</td>\n",
       "      <td>DETERGENTE LIQUIDO COLOR</td>\n",
       "      <td>DETERGENTE LIQUIDO COLOR 5 LT</td>\n",
       "      <td>https://locahost:8000/images/7501199404301?hei...</td>\n",
       "      <td>grocery|dairy products</td>\n",
       "      <td>DAIRY PRODUCTS</td>\n",
       "      <td>BUTTER-SUBSTITUTES</td>\n",
       "      <td>MADEMSA</td>\n",
       "      <td>Richart Wholesale Wlub</td>\n",
       "    </tr>\n",
       "    <tr>\n",
       "      <th>321539</th>\n",
       "      <td>144269</td>\n",
       "      <td>NaN</td>\n",
       "      <td>R</td>\n",
       "      <td>Y</td>\n",
       "      <td>True</td>\n",
       "      <td>434058</td>\n",
       "      <td>7501006555752</td>\n",
       "      <td>2 SOBRES PALOMITAS  + VALENTINA</td>\n",
       "      <td>2 SOBRES PALOMITAS  + VALENTINA 1 PZA</td>\n",
       "      <td>https://locahost:8000/images/7501006555752?hei...</td>\n",
       "      <td>entertainment|electronics</td>\n",
       "      <td>ELECTRONICS</td>\n",
       "      <td>EQUIPOS DE AUDIO</td>\n",
       "      <td>DON JUAN</td>\n",
       "      <td>Richart Wholesale Wlub</td>\n",
       "    </tr>\n",
       "    <tr>\n",
       "      <th>321540</th>\n",
       "      <td>312844</td>\n",
       "      <td>KG</td>\n",
       "      <td>B</td>\n",
       "      <td>NaN</td>\n",
       "      <td>True</td>\n",
       "      <td>305744</td>\n",
       "      <td>6971165068775</td>\n",
       "      <td>CAMISA JORDACHE J, BLANCO, EG/XL</td>\n",
       "      <td>CAMISA JORDACHE J, BLANCO, EG/XL</td>\n",
       "      <td>https://locahost:8000/images/6971165068775?hei...</td>\n",
       "      <td>grocery|92 grocery</td>\n",
       "      <td>92 GROCERY</td>\n",
       "      <td>MILK-CREAM-SUBSTITUTES-SHELF</td>\n",
       "      <td>MEYER</td>\n",
       "      <td>Richart Wholesale Wlub</td>\n",
       "    </tr>\n",
       "    <tr>\n",
       "      <th>321541</th>\n",
       "      <td>60891</td>\n",
       "      <td>UN</td>\n",
       "      <td>NaN</td>\n",
       "      <td>NaN</td>\n",
       "      <td>True</td>\n",
       "      <td>975067</td>\n",
       "      <td>40000695373</td>\n",
       "      <td>SOFA</td>\n",
       "      <td>SOFA SOC T-PU CHOCO 1UN</td>\n",
       "      <td>https://locahost:8000/images/40000695373?heigh...</td>\n",
       "      <td>meat &amp; fish|seafood</td>\n",
       "      <td>SEAFOOD</td>\n",
       "      <td>SEAFOOD - FISH</td>\n",
       "      <td>TAIWAN</td>\n",
       "      <td>Richart Wholesale Wlub</td>\n",
       "    </tr>\n",
       "  </tbody>\n",
       "</table>\n",
       "<p>321542 rows × 15 columns</p>\n",
       "</div>"
      ],
      "text/plain": [
       "           SKU BUY_UNIT DESCRIPTION_STATUS ORGANIC_ITEM  KIRLAND_ITEM  \\\n",
       "0        52572       UN                  B          NaN         False   \n",
       "1       278100      NaN                  R          NaN          True   \n",
       "2        27404       KG                  B          NaN          True   \n",
       "3       215143       UN                 CD            Y          True   \n",
       "4        85805       KG                 CD            N         False   \n",
       "...        ...      ...                ...          ...           ...   \n",
       "321537   37542       UN                NaN            N         False   \n",
       "321538  199851      NaN                  R            Y          True   \n",
       "321539  144269      NaN                  R            Y          True   \n",
       "321540  312844       KG                  B          NaN          True   \n",
       "321541   60891       UN                NaN          NaN          True   \n",
       "\n",
       "        FINELINE_NUMBER       BARCODES                                 NAME  \\\n",
       "0                713115   693177767936                             CANASTOS   \n",
       "1                345827            399                   LIMÓN COLIMA KG      \n",
       "2                134923   762230099043                              CHICLES   \n",
       "3                773663  7501199416236  JABON LIQUIDO PARA MANOS VITAMINA E   \n",
       "4                233313  8410113003119   VINO TINTO GRAN CORONAS TORRES 750   \n",
       "...                 ...            ...                                  ...   \n",
       "321537           966232   698400300544                      LOZA BASICA GRA   \n",
       "321538           855034  7501199404301             DETERGENTE LIQUIDO COLOR   \n",
       "321539           434058  7501006555752      2 SOBRES PALOMITAS  + VALENTINA   \n",
       "321540           305744  6971165068775     CAMISA JORDACHE J, BLANCO, EG/XL   \n",
       "321541           975067    40000695373                                 SOFA   \n",
       "\n",
       "                                        DESCRIPTION  \\\n",
       "0                           CANASTO CONEJO F1 A 1UN   \n",
       "1                                LIMÓN COLIMA KG      \n",
       "2                             TRIDENT 6S SANDIA 9GR   \n",
       "3       JABON LIQUIDO PARA MANOS VITAMINA E 442 ML.   \n",
       "4          VINO TINTO GRAN CORONAS TORRES 750 1 PZA   \n",
       "...                                             ...   \n",
       "321537                       TAZA CONSOME 280CC 1UN   \n",
       "321538                DETERGENTE LIQUIDO COLOR 5 LT   \n",
       "321539        2 SOBRES PALOMITAS  + VALENTINA 1 PZA   \n",
       "321540             CAMISA JORDACHE J, BLANCO, EG/XL   \n",
       "321541                      SOFA SOC T-PU CHOCO 1UN   \n",
       "\n",
       "                                                IMAGE_URL  \\\n",
       "0       https://locahost:8000/images/693177767936?heig...   \n",
       "1       https://locahost:8000/images/399?height=500&wi...   \n",
       "2       https://locahost:8000/images/762230099043?heig...   \n",
       "3       https://locahost:8000/images/7501199416236?hei...   \n",
       "4       https://locahost:8000/images/8410113003119?hei...   \n",
       "...                                                   ...   \n",
       "321537  https://locahost:8000/images/698400300544?heig...   \n",
       "321538  https://locahost:8000/images/7501199404301?hei...   \n",
       "321539  https://locahost:8000/images/7501006555752?hei...   \n",
       "321540  https://locahost:8000/images/6971165068775?hei...   \n",
       "321541  https://locahost:8000/images/40000695373?heigh...   \n",
       "\n",
       "                               CATEGORY         SUB_CATEGORY  \\\n",
       "0                     apparel|mens wear            MENS WEAR   \n",
       "1          entertainment|toys & hobbies       TOYS & HOBBIES   \n",
       "2                  hardlines|automotive           AUTOMOTIVE   \n",
       "3                    hardlines|seasonal             SEASONAL   \n",
       "4       consumables|household chemicals  HOUSEHOLD CHEMICALS   \n",
       "...                                 ...                  ...   \n",
       "321537               hardlines|hardware             HARDWARE   \n",
       "321538           grocery|dairy products       DAIRY PRODUCTS   \n",
       "321539        entertainment|electronics          ELECTRONICS   \n",
       "321540               grocery|92 grocery           92 GROCERY   \n",
       "321541              meat & fish|seafood              SEAFOOD   \n",
       "\n",
       "                    SUB_SUB_CATEGORY            BRAND                   store  \n",
       "0                     MEN - T-SHIRTS   PUPPY DOG PALS  Richart Wholesale Wlub  \n",
       "1                           PELUCHES         ENTRECOT  Richart Wholesale Wlub  \n",
       "2               APARIENCIA AUTOMOVIL            SPURA  Richart Wholesale Wlub  \n",
       "3                  SEASONAL - EASTER          CHAMYTO  Richart Wholesale Wlub  \n",
       "4           AIR FRESHENER-DEODORIZER          POOPSIE  Richart Wholesale Wlub  \n",
       "...                              ...              ...                     ...  \n",
       "321537                   VENTILACION  HO DON CUSTODIO  Richart Wholesale Wlub  \n",
       "321538            BUTTER-SUBSTITUTES          MADEMSA  Richart Wholesale Wlub  \n",
       "321539              EQUIPOS DE AUDIO         DON JUAN  Richart Wholesale Wlub  \n",
       "321540  MILK-CREAM-SUBSTITUTES-SHELF            MEYER  Richart Wholesale Wlub  \n",
       "321541                SEAFOOD - FISH           TAIWAN  Richart Wholesale Wlub  \n",
       "\n",
       "[321542 rows x 15 columns]"
      ]
     },
     "execution_count": 145,
     "metadata": {},
     "output_type": "execute_result"
    }
   ],
   "source": [
    "products_df"
   ]
  },
  {
   "cell_type": "code",
   "execution_count": 205,
   "metadata": {
    "scrolled": false
   },
   "outputs": [
    {
     "data": {
      "text/plain": [
       "0         True\n",
       "1         True\n",
       "2         True\n",
       "3         True\n",
       "4         True\n",
       "          ... \n",
       "321537    True\n",
       "321538    True\n",
       "321539    True\n",
       "321540    True\n",
       "321541    True\n",
       "Name: NAME, Length: 315119, dtype: bool"
      ]
     },
     "execution_count": 205,
     "metadata": {},
     "output_type": "execute_result"
    }
   ],
   "source": [
    "products_df['NAME'].notna()"
   ]
  },
  {
   "cell_type": "code",
   "execution_count": 206,
   "metadata": {},
   "outputs": [
    {
     "data": {
      "text/plain": [
       "0                                    CANASTOS\n",
       "1                          LIMÓN COLIMA KG   \n",
       "2                                     CHICLES\n",
       "3         JABON LIQUIDO PARA MANOS VITAMINA E\n",
       "4          VINO TINTO GRAN CORONAS TORRES 750\n",
       "                         ...                 \n",
       "321537                        LOZA BASICA GRA\n",
       "321538               DETERGENTE LIQUIDO COLOR\n",
       "321539        2 SOBRES PALOMITAS  + VALENTINA\n",
       "321540       CAMISA JORDACHE J, BLANCO, EG/XL\n",
       "321541                                   SOFA\n",
       "Name: NAME, Length: 315119, dtype: object"
      ]
     },
     "execution_count": 206,
     "metadata": {},
     "output_type": "execute_result"
    }
   ],
   "source": [
    "products_df['NAME']"
   ]
  },
  {
   "cell_type": "code",
   "execution_count": 70,
   "metadata": {},
   "outputs": [
    {
     "data": {
      "text/plain": [
       "(306768, 14)"
      ]
     },
     "execution_count": 70,
     "metadata": {},
     "output_type": "execute_result"
    }
   ],
   "source": []
  },
  {
   "cell_type": "code",
   "execution_count": 44,
   "metadata": {},
   "outputs": [
    {
     "data": {
      "text/plain": [
       "(306768, 13)"
      ]
     },
     "execution_count": 44,
     "metadata": {},
     "output_type": "execute_result"
    }
   ],
   "source": []
  },
  {
   "cell_type": "code",
   "execution_count": 45,
   "metadata": {},
   "outputs": [
    {
     "data": {
      "text/plain": [
       "(14774, 13)"
      ]
     },
     "execution_count": 45,
     "metadata": {},
     "output_type": "execute_result"
    }
   ],
   "source": []
  },
  {
   "cell_type": "code",
   "execution_count": 46,
   "metadata": {},
   "outputs": [
    {
     "data": {
      "text/plain": [
       "(321542, 13)"
      ]
     },
     "execution_count": 46,
     "metadata": {},
     "output_type": "execute_result"
    }
   ],
   "source": []
  },
  {
   "cell_type": "code",
   "execution_count": 48,
   "metadata": {},
   "outputs": [
    {
     "data": {
      "text/plain": [
       "321542"
      ]
     },
     "execution_count": 48,
     "metadata": {},
     "output_type": "execute_result"
    }
   ],
   "source": []
  },
  {
   "cell_type": "code",
   "execution_count": null,
   "metadata": {},
   "outputs": [],
   "source": []
  }
 ],
 "metadata": {
  "kernelspec": {
   "display_name": "Python 3",
   "language": "python",
   "name": "python3"
  },
  "language_info": {
   "codemirror_mode": {
    "name": "ipython",
    "version": 3
   },
   "file_extension": ".py",
   "mimetype": "text/x-python",
   "name": "python",
   "nbconvert_exporter": "python",
   "pygments_lexer": "ipython3",
   "version": "3.8.2"
  }
 },
 "nbformat": 4,
 "nbformat_minor": 4
}
